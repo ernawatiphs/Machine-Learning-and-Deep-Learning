{
  "nbformat": 4,
  "nbformat_minor": 0,
  "metadata": {
    "colab": {
      "provenance": []
    },
    "kernelspec": {
      "name": "python3",
      "display_name": "Python 3"
    },
    "language_info": {
      "name": "python"
    }
  },
  "cells": [
    {
      "cell_type": "markdown",
      "source": [
        "# **Bonus Task**\n",
        "This problem description is the same as Task 3. But there are some\n",
        "technical challenges that you have to choose one.\n",
        "1. Compare 3 different configurations while your model is\n",
        "wider/deeper. Show and explain the performance result.\n",
        "2. Compare 3 configurations for different Loss Function. Show and\n",
        "explain your performance result.\n",
        "\n",
        "3. Compare 3 configurations for the activation function. Show and\n",
        "explain your performance result."
      ],
      "metadata": {
        "id": "WnjabDbKAcZa"
      }
    },
    {
      "cell_type": "markdown",
      "source": [
        "## **Import Necessary Libraries:**\n",
        "First, import the necessary libraries such as PyTorch, torchvision, and other utilities:"
      ],
      "metadata": {
        "id": "xZ-VKrNqV6zR"
      }
    },
    {
      "cell_type": "code",
      "execution_count": null,
      "metadata": {
        "id": "T--fPb9Ylqp1"
      },
      "outputs": [],
      "source": [
        "import numpy as np\n",
        "import torch\n",
        "import torch.nn as nn\n",
        "import torch.optim as optim\n",
        "import torchvision\n",
        "import torchvision.transforms as transforms\n",
        "import matplotlib.pyplot as plt\n",
        "from sklearn.metrics import classification_report\n",
        "from sklearn.metrics import accuracy_score, f1_score, precision_score, recall_score, confusion_matrix"
      ]
    },
    {
      "cell_type": "markdown",
      "source": [
        "## **Load the MNIST Dataset:**\n",
        "Load the MNIST dataset using the torchvision library and create data loaders for training and testing:"
      ],
      "metadata": {
        "id": "qGfReRKPWWFR"
      }
    },
    {
      "cell_type": "code",
      "source": [
        "transform = transforms.Compose([transforms.ToTensor(), transforms.Normalize((0.5,), (0.5,))])\n",
        "\n",
        "trainset = torchvision.datasets.MNIST(root='./data', train=True, download=True, transform=transform)\n",
        "trainloader = torch.utils.data.DataLoader(trainset, batch_size=64, shuffle=True)\n",
        "\n",
        "testset = torchvision.datasets.MNIST(root='./data', train=False, download=True, transform=transform)\n",
        "testloader = torch.utils.data.DataLoader(testset, batch_size=64, shuffle=False)"
      ],
      "metadata": {
        "id": "h7ZnclsTTOac",
        "colab": {
          "base_uri": "https://localhost:8080/"
        },
        "outputId": "8259a2f7-08da-4a36-c2ca-08cd6f5e0000"
      },
      "execution_count": null,
      "outputs": [
        {
          "output_type": "stream",
          "name": "stdout",
          "text": [
            "Downloading http://yann.lecun.com/exdb/mnist/train-images-idx3-ubyte.gz\n",
            "Downloading http://yann.lecun.com/exdb/mnist/train-images-idx3-ubyte.gz to ./data/MNIST/raw/train-images-idx3-ubyte.gz\n"
          ]
        },
        {
          "output_type": "stream",
          "name": "stderr",
          "text": [
            "100%|██████████| 9912422/9912422 [00:00<00:00, 80677839.92it/s]\n"
          ]
        },
        {
          "output_type": "stream",
          "name": "stdout",
          "text": [
            "Extracting ./data/MNIST/raw/train-images-idx3-ubyte.gz to ./data/MNIST/raw\n",
            "\n",
            "Downloading http://yann.lecun.com/exdb/mnist/train-labels-idx1-ubyte.gz\n",
            "Downloading http://yann.lecun.com/exdb/mnist/train-labels-idx1-ubyte.gz to ./data/MNIST/raw/train-labels-idx1-ubyte.gz\n"
          ]
        },
        {
          "output_type": "stream",
          "name": "stderr",
          "text": [
            "100%|██████████| 28881/28881 [00:00<00:00, 76619667.19it/s]\n"
          ]
        },
        {
          "output_type": "stream",
          "name": "stdout",
          "text": [
            "Extracting ./data/MNIST/raw/train-labels-idx1-ubyte.gz to ./data/MNIST/raw\n",
            "\n",
            "Downloading http://yann.lecun.com/exdb/mnist/t10k-images-idx3-ubyte.gz\n",
            "Downloading http://yann.lecun.com/exdb/mnist/t10k-images-idx3-ubyte.gz to ./data/MNIST/raw/t10k-images-idx3-ubyte.gz\n"
          ]
        },
        {
          "output_type": "stream",
          "name": "stderr",
          "text": [
            "100%|██████████| 1648877/1648877 [00:00<00:00, 64886160.31it/s]"
          ]
        },
        {
          "output_type": "stream",
          "name": "stdout",
          "text": [
            "Extracting ./data/MNIST/raw/t10k-images-idx3-ubyte.gz to ./data/MNIST/raw\n"
          ]
        },
        {
          "output_type": "stream",
          "name": "stderr",
          "text": [
            "\n"
          ]
        },
        {
          "output_type": "stream",
          "name": "stdout",
          "text": [
            "\n",
            "Downloading http://yann.lecun.com/exdb/mnist/t10k-labels-idx1-ubyte.gz\n",
            "Downloading http://yann.lecun.com/exdb/mnist/t10k-labels-idx1-ubyte.gz to ./data/MNIST/raw/t10k-labels-idx1-ubyte.gz\n"
          ]
        },
        {
          "output_type": "stream",
          "name": "stderr",
          "text": [
            "100%|██████████| 4542/4542 [00:00<00:00, 1918095.93it/s]\n"
          ]
        },
        {
          "output_type": "stream",
          "name": "stdout",
          "text": [
            "Extracting ./data/MNIST/raw/t10k-labels-idx1-ubyte.gz to ./data/MNIST/raw\n",
            "\n"
          ]
        }
      ]
    },
    {
      "cell_type": "markdown",
      "source": [
        "## **Visualize the Data:**\n",
        "You can visualize some random samples from the dataset to get a sense of what the handwritten digits look like:"
      ],
      "metadata": {
        "id": "FfVGws_1Wdo2"
      }
    },
    {
      "cell_type": "code",
      "source": [
        "def imshow(img):\n",
        "    img = img / 2 + 0.5  # Unnormalize\n",
        "    npimg = img.numpy()\n",
        "    plt.imshow(np.transpose(npimg, (1, 2, 0)))\n",
        "    plt.show()\n",
        "\n",
        "# Show random training images\n",
        "dataiter = iter(trainloader)\n",
        "images, labels = next(dataiter)\n",
        "imshow(torchvision.utils.make_grid(images))"
      ],
      "metadata": {
        "colab": {
          "base_uri": "https://localhost:8080/",
          "height": 435
        },
        "id": "_M66bfgKTSyn",
        "outputId": "49b8769e-0799-4a37-8bfc-2da891b1c721"
      },
      "execution_count": null,
      "outputs": [
        {
          "output_type": "display_data",
          "data": {
            "text/plain": [
              "<Figure size 640x480 with 1 Axes>"
            ],
            "image/png": "[encoded data removed]"
          },
          "metadata": {}
        }
      ]
    },
    {
      "cell_type": "markdown",
      "source": [
        "## **Design Your Neural Network Model:**\n",
        "Create a custom neural network model. For simplicity, you can start with a feedforward neural network with one hidden layer:"
      ],
      "metadata": {
        "id": "W_5H4ZAGWj9A"
      }
    },
    {
      "cell_type": "code",
      "source": [
        "class Net(nn.Module):\n",
        "    def __init__(self):\n",
        "        super(Net, self).__init__()\n",
        "        self.fc1 = nn.Linear(28 * 28, 128)\n",
        "        self.fc2 = nn.Linear(128, 10)\n",
        "\n",
        "    def forward(self, x):\n",
        "        x = x.view(-1, 28 * 28)  # Flatten the input\n",
        "        x = torch.relu(self.fc1(x))\n",
        "        x = self.fc2(x)\n",
        "        return x\n",
        "\n",
        "net = Net()"
      ],
      "metadata": {
        "id": "Ruz7abdcTuI6"
      },
      "execution_count": null,
      "outputs": []
    },
    {
      "cell_type": "markdown",
      "source": [
        "## **Set Hyperparameters and Define Loss Function and Optimizer:**\n",
        "Define hyperparameters such as the learning rate, loss function, and optimizer:"
      ],
      "metadata": {
        "id": "XG27E7GoWo-G"
      }
    },
    {
      "cell_type": "code",
      "source": [
        "criterion = nn.CrossEntropyLoss()\n",
        "optimizer = optim.SGD(net.parameters(), lr=0.01, momentum=0.9)\n",
        "\n",
        "# Define the number of training epochs\n",
        "epochs = 10"
      ],
      "metadata": {
        "id": "a0b1CKNXT0_H"
      },
      "execution_count": null,
      "outputs": []
    },
    {
      "cell_type": "markdown",
      "source": [
        "## **Training Loop:**\n",
        "Implement the training loop to train your neural network:"
      ],
      "metadata": {
        "id": "ood956xhWu14"
      }
    },
    {
      "cell_type": "code",
      "source": [
        "for epoch in range(epochs):\n",
        "    running_loss = 0.0\n",
        "    for i, data in enumerate(trainloader, 0):\n",
        "        inputs, labels = data\n",
        "\n",
        "        optimizer.zero_grad()\n",
        "\n",
        "        outputs = net(inputs)\n",
        "        loss = criterion(outputs, labels)\n",
        "        loss.backward()\n",
        "        optimizer.step()\n",
        "\n",
        "        running_loss += loss.item()\n",
        "\n",
        "    print(f\"Epoch {epoch + 1}, Loss: {running_loss / len(trainloader)}\")"
      ],
      "metadata": {
        "colab": {
          "base_uri": "https://localhost:8080/"
        },
        "id": "R2fjnc_CT4yR",
        "outputId": "887452ff-a6a6-40d5-d381-64781b7e1c06"
      },
      "execution_count": null,
      "outputs": [
        {
          "output_type": "stream",
          "name": "stdout",
          "text": [
            "Epoch 1, Loss: 0.36941989052937485\n",
            "Epoch 2, Loss: 0.18079885399576698\n",
            "Epoch 3, Loss: 0.1317611063199082\n",
            "Epoch 4, Loss: 0.10881339265371183\n",
            "Epoch 5, Loss: 0.09248020279822923\n",
            "Epoch 6, Loss: 0.07932380586117903\n",
            "Epoch 7, Loss: 0.0696839442504431\n",
            "Epoch 8, Loss: 0.06371002169206802\n",
            "Epoch 9, Loss: 0.05479974049115693\n",
            "Epoch 10, Loss: 0.05119213440231105\n"
          ]
        }
      ]
    },
    {
      "cell_type": "markdown",
      "source": [
        "## **Evaluate the Model:**\n",
        "After training, evaluate the model using various performance metrics such as accuracy, confusion matrix, F1 Score, Precision, and Recall:"
      ],
      "metadata": {
        "id": "Bo8BAm_zWzcI"
      }
    },
    {
      "cell_type": "code",
      "source": [
        "def evaluate_model(model, dataloader):\n",
        "    model.eval()\n",
        "    all_preds = []\n",
        "    all_labels = []\n",
        "\n",
        "    with torch.no_grad():\n",
        "        for data in dataloader:\n",
        "            inputs, labels = data\n",
        "            outputs = model(inputs)\n",
        "            _, preds = torch.max(outputs, 1)\n",
        "            all_preds.extend(preds.cpu().numpy())\n",
        "            all_labels.extend(labels.cpu().numpy())\n",
        "\n",
        "    accuracy = accuracy_score(all_labels, all_preds)\n",
        "    f1 = f1_score(all_labels, all_preds, average='weighted')\n",
        "    precision = precision_score(all_labels, all_preds, average='weighted')\n",
        "    recall = recall_score(all_labels, all_preds, average='weighted')\n",
        "    cm = confusion_matrix(all_labels, all_preds)\n",
        "\n",
        "    return accuracy, f1, precision, recall, cm\n",
        "\n",
        "accuracy, f1, precision, recall, cm = evaluate_model(net, testloader)\n",
        "print(f\"Accuracy: {accuracy}\")\n",
        "print(f\"F1 Score: {f1}\")\n",
        "print(f\"Precision: {precision}\")\n",
        "print(f\"Recall: {recall}\")\n",
        "print(\"Confusion Matrix:\")\n",
        "print(cm)"
      ],
      "metadata": {
        "colab": {
          "base_uri": "https://localhost:8080/"
        },
        "id": "j496zdD3VCaC",
        "outputId": "5502bc26-1d45-44c9-bed6-cbd123fca158"
      },
      "execution_count": null,
      "outputs": [
        {
          "output_type": "stream",
          "name": "stdout",
          "text": [
            "Accuracy: 0.9735\n",
            "F1 Score: 0.9735229371075593\n",
            "Precision: 0.9737798148105002\n",
            "Recall: 0.9735\n",
            "Confusion Matrix:\n",
            "[[ 969    0    1    0    0    2    1    2    4    1]\n",
            " [   0 1122    2    4    0    0    1    1    5    0]\n",
            " [   3    0 1004    7    1    0    1    7    9    0]\n",
            " [   0    0    3  994    0    2    0    3    4    4]\n",
            " [   3    0    9    2  933    0    3    4    1   27]\n",
            " [   3    0    0   20    0  853    2    1   12    1]\n",
            " [   5    5    0    1    2    4  931    0   10    0]\n",
            " [   0    5    9    2    0    0    0 1001    2    9]\n",
            " [   3    1    3   10    2    0    1    3  949    2]\n",
            " [   1    2    0    8    6    4    1    7    1  979]]\n"
          ]
        }
      ]
    },
    {
      "cell_type": "code",
      "source": [
        "# Evaluate the model\n",
        "def evaluate_model(model, dataloader):\n",
        "    model.eval()\n",
        "    all_preds = []\n",
        "    all_labels = []\n",
        "\n",
        "    with torch.no_grad():\n",
        "        for data in dataloader:\n",
        "            inputs, labels = data\n",
        "            outputs = model(inputs)\n",
        "            _, preds = torch.max(outputs, 1)\n",
        "            all_preds.extend(preds.cpu().numpy())\n",
        "            all_labels.extend(labels.cpu().numpy())\n",
        "\n",
        "    return all_labels, all_preds\n",
        "\n",
        "true_labels, predicted_labels = evaluate_model(net, testloader)\n",
        "\n",
        "# Generate the classification report\n",
        "class_names = [str(i) for i in range(10)]  # MNIST class labels\n",
        "report = classification_report(true_labels, predicted_labels, target_names=class_names)\n",
        "print(\"Classification Report:\")\n",
        "print(report)"
      ],
      "metadata": {
        "colab": {
          "base_uri": "https://localhost:8080/"
        },
        "id": "NRwM-mY0YDNp",
        "outputId": "f08c51ef-51c2-48b8-c75a-4431839862c1"
      },
      "execution_count": null,
      "outputs": [
        {
          "output_type": "stream",
          "name": "stdout",
          "text": [
            "Classification Report:\n",
            "              precision    recall  f1-score   support\n",
            "\n",
            "           0       0.99      0.98      0.98       980\n",
            "           1       1.00      0.97      0.99      1135\n",
            "           2       0.98      0.96      0.97      1032\n",
            "           3       0.97      0.98      0.97      1010\n",
            "           4       0.95      0.99      0.97       982\n",
            "           5       0.98      0.97      0.97       892\n",
            "           6       0.96      0.99      0.97       958\n",
            "           7       0.99      0.94      0.96      1028\n",
            "           8       0.93      0.98      0.96       974\n",
            "           9       0.96      0.96      0.96      1009\n",
            "\n",
            "    accuracy                           0.97     10000\n",
            "   macro avg       0.97      0.97      0.97     10000\n",
            "weighted avg       0.97      0.97      0.97     10000\n",
            "\n"
          ]
        }
      ]
    },
    {
      "cell_type": "markdown",
      "source": [
        "Compare"
      ],
      "metadata": {
        "id": "HwAGfbZubHqh"
      }
    },
    {
      "cell_type": "code",
      "source": [
        "class WiderNet(nn.Module):\n",
        "    def __init__(self):\n",
        "        super(WiderNet, self).__init__()\n",
        "        self.fc1 = nn.Linear(28 * 28, 256)  # Wider hidden layer\n",
        "        self.fc2 = nn.Linear(256, 10)\n",
        "\n",
        "    def forward(self, x):\n",
        "        x = x.view(-1, 28 * 28)  # Flatten the input\n",
        "        x = torch.relu(self.fc1(x))\n",
        "        x = self.fc2(x)\n",
        "        return x\n",
        "\n",
        "wider_net = WiderNet()"
      ],
      "metadata": {
        "id": "oQukymALbJlp"
      },
      "execution_count": null,
      "outputs": []
    },
    {
      "cell_type": "code",
      "source": [
        "class DeeperNet(nn.Module):\n",
        "    def __init__(self):\n",
        "        super(DeeperNet, self).__init__()\n",
        "        self.fc1 = nn.Linear(28 * 28, 128)\n",
        "        self.fc2 = nn.Linear(128, 64)  # Additional hidden layer\n",
        "        self.fc3 = nn.Linear(64, 10)\n",
        "\n",
        "    def forward(self, x):\n",
        "        x = x.view(-1, 28 * 28)  # Flatten the input\n",
        "        x = torch.relu(self.fc1(x))\n",
        "        x = torch.relu(self.fc2(x))  # Additional hidden layer\n",
        "        x = self.fc3(x)\n",
        "        return x\n",
        "\n",
        "deeper_net = DeeperNet()"
      ],
      "metadata": {
        "id": "bLKVyFFrbOk3"
      },
      "execution_count": null,
      "outputs": []
    },
    {
      "cell_type": "code",
      "source": [
        "def evaluate_model(model, dataloader):\n",
        "    model.eval()\n",
        "    all_preds = []\n",
        "    all_labels = []\n",
        "\n",
        "    with torch.no_grad():\n",
        "        for data in dataloader:\n",
        "            inputs, labels = data\n",
        "            outputs = model(inputs)\n",
        "            _, preds = torch.max(outputs, 1)\n",
        "            all_preds.extend(preds.cpu().numpy())\n",
        "            all_labels.extend(labels.cpu().numpy())\n",
        "\n",
        "    accuracy = accuracy_score(all_labels, all_preds)\n",
        "    f1 = f1_score(all_labels, all_preds, average='weighted')\n",
        "    precision = precision_score(all_labels, all_preds, average='weighted')\n",
        "    recall = recall_score(all_labels, all_preds, average='weighted')\n",
        "    cm = confusion_matrix(all_labels, all_preds)\n",
        "\n",
        "    return accuracy, f1, precision, recall, cm"
      ],
      "metadata": {
        "id": "FFNGPCm9bP1n"
      },
      "execution_count": null,
      "outputs": []
    },
    {
      "cell_type": "code",
      "source": [
        "accuracy_wider, f1_wider, precision_wider, recall_wider, cm_wider = evaluate_model(wider_net, testloader)\n",
        "print(\"Wider Model Metrics:\")\n",
        "print(f\"Accuracy: {accuracy_wider}\")\n",
        "print(f\"F1 Score: {f1_wider}\")\n",
        "# Print other metrics as needed\n",
        "\n",
        "accuracy_deeper, f1_deeper, precision_deeper, recall_deeper, cm_deeper = evaluate_model(deeper_net, testloader)\n",
        "print(\"Deeper Model Metrics:\")\n",
        "print(f\"Accuracy: {accuracy_deeper}\")\n",
        "print(f\"F1 Score: {f1_deeper}\")"
      ],
      "metadata": {
        "colab": {
          "base_uri": "https://localhost:8080/"
        },
        "id": "tEHG-3Fhb_u-",
        "outputId": "0542a99a-06b7-4f33-ff41-54c9a3e6ecee"
      },
      "execution_count": null,
      "outputs": [
        {
          "output_type": "stream",
          "name": "stderr",
          "text": [
            "/usr/local/lib/python3.10/dist-packages/sklearn/metrics/_classification.py:1344: UndefinedMetricWarning: Precision is ill-defined and being set to 0.0 in labels with no predicted samples. Use `zero_division` parameter to control this behavior.\n",
            "  _warn_prf(average, modifier, msg_start, len(result))\n"
          ]
        },
        {
          "output_type": "stream",
          "name": "stdout",
          "text": [
            "Wider Model Metrics:\n",
            "Accuracy: 0.0724\n",
            "F1 Score: 0.052737082724108174\n",
            "Deeper Model Metrics:\n",
            "Accuracy: 0.095\n",
            "F1 Score: 0.02546199133033001\n"
          ]
        },
        {
          "output_type": "stream",
          "name": "stderr",
          "text": [
            "/usr/local/lib/python3.10/dist-packages/sklearn/metrics/_classification.py:1344: UndefinedMetricWarning: Precision is ill-defined and being set to 0.0 in labels with no predicted samples. Use `zero_division` parameter to control this behavior.\n",
            "  _warn_prf(average, modifier, msg_start, len(result))\n"
          ]
        }
      ]
    },
    {
      "cell_type": "markdown",
      "source": [
        "#**1. Compare 3 Different Configurations While Your Model is Wider/Deeper.**\n",
        "Show and explain the performance result."
      ],
      "metadata": {
        "id": "BFZQ5rHjcPE_"
      }
    },
    {
      "cell_type": "code",
      "source": [
        "import torch\n",
        "import torch.nn as nn\n",
        "import torch.optim as optim\n",
        "import torchvision\n",
        "import torchvision.transforms as transforms\n",
        "from sklearn.metrics import accuracy_score, confusion_matrix, classification_report\n",
        "\n",
        "# Data preprocessing transformations\n",
        "transform = transforms.Compose([transforms.ToTensor(), transforms.Normalize((0.5,), (0.5,))])\n",
        "\n",
        "# Load the MNIST dataset\n",
        "trainset = torchvision.datasets.MNIST(root='./data', train=True, download=True, transform=transform)\n",
        "trainloader = torch.utils.data.DataLoader(trainset, batch_size=64, shuffle=True)\n",
        "\n",
        "testset = torchvision.datasets.MNIST(root='./data', train=False, download=True, transform=transform)\n",
        "testloader = torch.utils.data.DataLoader(testset, batch_size=64, shuffle=False)\n",
        "\n",
        "# Define a deeper neural network\n",
        "class DeepNet(nn.Module):\n",
        "    def __init__(self):\n",
        "        super(DeepNet, self).__init__()\n",
        "        self.fc1 = nn.Linear(28 * 28, 128)\n",
        "        self.fc2 = nn.Linear(128, 128)\n",
        "        self.fc3 = nn.Linear(128, 10)\n",
        "\n",
        "    def forward(self, x):\n",
        "        x = x.view(-1, 28 * 28)\n",
        "        x = torch.relu(self.fc1(x))\n",
        "        x = torch.relu(self.fc2(x))\n",
        "        x = self.fc3(x)\n",
        "        return x\n",
        "\n",
        "# Define a wider neural network\n",
        "class WideNet(nn.Module):\n",
        "    def __init__(self):\n",
        "        super(WideNet, self).__init__()\n",
        "        self.fc1 = nn.Linear(28 * 28, 256)\n",
        "        self.fc2 = nn.Linear(256, 10)\n",
        "\n",
        "    def forward(self, x):\n",
        "        x = x.view(-1, 28 * 28)\n",
        "        x = torch.relu(self.fc1(x))\n",
        "        x = self.fc2(x)\n",
        "        return x\n",
        "\n",
        "# Train and evaluate a given model\n",
        "def train_and_evaluate_model(model, trainloader, testloader, model_name):\n",
        "    criterion = nn.CrossEntropyLoss()\n",
        "    optimizer = optim.SGD(model.parameters(), lr=0.01, momentum=0.9)\n",
        "\n",
        "    epochs = 10\n",
        "    for epoch in range(epochs):\n",
        "        model.train()\n",
        "        running_loss = 0.0\n",
        "        for i, data in enumerate(trainloader, 0):\n",
        "            inputs, labels = data\n",
        "            optimizer.zero_grad()\n",
        "            outputs = model(inputs)\n",
        "            loss = criterion(outputs, labels)\n",
        "            loss.backward()\n",
        "            optimizer.step()\n",
        "            running_loss += loss.item()\n",
        "\n",
        "        print(f\"Epoch {epoch + 1}, Loss ({model_name}): {running_loss / len(trainloader)}\")\n",
        "\n",
        "    # Evaluation\n",
        "    model.eval()\n",
        "    all_preds = []\n",
        "    all_labels = []\n",
        "\n",
        "    with torch.no_grad():\n",
        "        for data in testloader:\n",
        "            inputs, labels = data\n",
        "            outputs = model(inputs)\n",
        "            _, preds = torch.max(outputs, 1)\n",
        "            all_preds.extend(preds.cpu().numpy())\n",
        "            all_labels.extend(labels.cpu().numpy())\n",
        "\n",
        "    accuracy = accuracy_score(all_labels, all_preds)\n",
        "    confusion = confusion_matrix(all_labels, all_preds)\n",
        "    class_report = classification_report(all_labels, all_preds)\n",
        "\n",
        "    print(f\"Accuracy ({model_name}): {accuracy * 100:.2f}%\")\n",
        "    print(\"Confusion Matrix:\")\n",
        "    print(confusion)\n",
        "    print(\"Classification Report:\")\n",
        "    print(class_report)\n",
        "\n",
        "# Compare three different configurations\n",
        "models = [\n",
        "    (DeepNet(), \"Deep Model\"),\n",
        "    (WideNet(), \"Wide Model\"),\n",
        "    (WideNet(), \"Deep and Wide Model\")\n",
        "]\n",
        "\n",
        "for model, model_name in models:\n",
        "    print(f\"Training and evaluating {model_name}:\")\n",
        "    train_and_evaluate_model(model, trainloader, testloader, model_name)"
      ],
      "metadata": {
        "colab": {
          "base_uri": "https://localhost:8080/"
        },
        "id": "lZEvBF5zCtLx",
        "outputId": "24c91a3d-0c99-4759-f378-779aedd47ace"
      },
      "execution_count": null,
      "outputs": [
        {
          "output_type": "stream",
          "name": "stdout",
          "text": [
            "Training and evaluating Deep Model:\n",
            "Epoch 1, Loss (Deep Model): 0.41869501417665594\n",
            "Epoch 2, Loss (Deep Model): 0.1734230400744214\n",
            "Epoch 3, Loss (Deep Model): 0.1276299151381466\n",
            "Epoch 4, Loss (Deep Model): 0.10552622972806888\n",
            "Epoch 5, Loss (Deep Model): 0.08632194669569718\n",
            "Epoch 6, Loss (Deep Model): 0.07332480968440822\n",
            "Epoch 7, Loss (Deep Model): 0.06422746001528318\n",
            "Epoch 8, Loss (Deep Model): 0.05477921190936722\n",
            "Epoch 9, Loss (Deep Model): 0.04907780477100971\n",
            "Epoch 10, Loss (Deep Model): 0.0459893471527242\n",
            "Accuracy (Deep Model): 97.58%\n",
            "Confusion Matrix:\n",
            "[[ 955    1    2    0    0    4   10    5    2    1]\n",
            " [   0 1130    0    1    0    1    2    0    1    0]\n",
            " [   1    3  998   12    2    1    2   11    2    0]\n",
            " [   0    1    3  992    0    3    0    5    1    5]\n",
            " [   0    1    5    0  964    1    2    0    1    8]\n",
            " [   0    1    1    6    3  866    6    2    3    4]\n",
            " [   1    3    1    1    3    3  944    0    2    0]\n",
            " [   1    7   11    1    2    0    1  998    4    3]\n",
            " [   2    1    3    7    3    6    3    4  940    5]\n",
            " [   1    2    0    5   16    2    1   11    0  971]]\n",
            "Classification Report:\n",
            "              precision    recall  f1-score   support\n",
            "\n",
            "           0       0.99      0.97      0.98       980\n",
            "           1       0.98      1.00      0.99      1135\n",
            "           2       0.97      0.97      0.97      1032\n",
            "           3       0.97      0.98      0.97      1010\n",
            "           4       0.97      0.98      0.98       982\n",
            "           5       0.98      0.97      0.97       892\n",
            "           6       0.97      0.99      0.98       958\n",
            "           7       0.96      0.97      0.97      1028\n",
            "           8       0.98      0.97      0.97       974\n",
            "           9       0.97      0.96      0.97      1009\n",
            "\n",
            "    accuracy                           0.98     10000\n",
            "   macro avg       0.98      0.98      0.98     10000\n",
            "weighted avg       0.98      0.98      0.98     10000\n",
            "\n",
            "Training and evaluating Wide Model:\n",
            "Epoch 1, Loss (Wide Model): 0.3617523406495227\n",
            "Epoch 2, Loss (Wide Model): 0.16918189109547305\n",
            "Epoch 3, Loss (Wide Model): 0.12141052943501454\n",
            "Epoch 4, Loss (Wide Model): 0.09805530506813688\n",
            "Epoch 5, Loss (Wide Model): 0.08034647623204123\n",
            "Epoch 6, Loss (Wide Model): 0.0691620950435183\n",
            "Epoch 7, Loss (Wide Model): 0.060225085833910175\n",
            "Epoch 8, Loss (Wide Model): 0.05251901612149428\n",
            "Epoch 9, Loss (Wide Model): 0.04672494669284012\n",
            "Epoch 10, Loss (Wide Model): 0.04114986806939135\n",
            "Accuracy (Wide Model): 97.36%\n",
            "Confusion Matrix:\n",
            "[[ 969    0    1    0    1    1    2    1    3    2]\n",
            " [   0 1121    3    1    0    2    2    2    4    0]\n",
            " [   5    5  996    4    6    0    1   11    4    0]\n",
            " [   0    0    1  988    0    8    0    6    4    3]\n",
            " [   1    0    3    0  963    2    2    4    4    3]\n",
            " [   3    0    0    6    2  876    3    1    0    1]\n",
            " [   5    3    0    1    5    5  939    0    0    0]\n",
            " [   1    3    6    2    0    0    0 1015    1    0]\n",
            " [   3    0    3    2    3    5    4    6  947    1]\n",
            " [   2    4    0    7   16    9    1   38   10  922]]\n",
            "Classification Report:\n",
            "              precision    recall  f1-score   support\n",
            "\n",
            "           0       0.98      0.99      0.98       980\n",
            "           1       0.99      0.99      0.99      1135\n",
            "           2       0.98      0.97      0.97      1032\n",
            "           3       0.98      0.98      0.98      1010\n",
            "           4       0.97      0.98      0.97       982\n",
            "           5       0.96      0.98      0.97       892\n",
            "           6       0.98      0.98      0.98       958\n",
            "           7       0.94      0.99      0.96      1028\n",
            "           8       0.97      0.97      0.97       974\n",
            "           9       0.99      0.91      0.95      1009\n",
            "\n",
            "    accuracy                           0.97     10000\n",
            "   macro avg       0.97      0.97      0.97     10000\n",
            "weighted avg       0.97      0.97      0.97     10000\n",
            "\n",
            "Training and evaluating Deep and Wide Model:\n",
            "Epoch 1, Loss (Deep and Wide Model): 0.36685996574919616\n",
            "Epoch 2, Loss (Deep and Wide Model): 0.1743003104729995\n",
            "Epoch 3, Loss (Deep and Wide Model): 0.12367847692400122\n",
            "Epoch 4, Loss (Deep and Wide Model): 0.09710090189699584\n",
            "Epoch 5, Loss (Deep and Wide Model): 0.08116677192611688\n",
            "Epoch 6, Loss (Deep and Wide Model): 0.06955468061485334\n",
            "Epoch 7, Loss (Deep and Wide Model): 0.06055477997119318\n",
            "Epoch 8, Loss (Deep and Wide Model): 0.05415453234248594\n",
            "Epoch 9, Loss (Deep and Wide Model): 0.04737155852235679\n",
            "Epoch 10, Loss (Deep and Wide Model): 0.04162853463033615\n",
            "Accuracy (Deep and Wide Model): 97.99%\n",
            "Confusion Matrix:\n",
            "[[ 972    0    1    1    0    0    2    1    2    1]\n",
            " [   0 1126    3    1    0    1    1    1    2    0]\n",
            " [   5    2 1009    4    2    0    1    6    3    0]\n",
            " [   0    0    3  998    0    2    0    4    3    0]\n",
            " [   2    0    4    0  962    0    3    4    0    7]\n",
            " [   6    1    0   12    0  861    3    3    2    4]\n",
            " [   7    3    0    1    2    1  941    1    2    0]\n",
            " [   0    3    7    1    0    0    0 1011    0    6]\n",
            " [   4    1    3    8    3    2    3    5  943    2]\n",
            " [   2    2    0    8   10    1    2    8    0  976]]\n",
            "Classification Report:\n",
            "              precision    recall  f1-score   support\n",
            "\n",
            "           0       0.97      0.99      0.98       980\n",
            "           1       0.99      0.99      0.99      1135\n",
            "           2       0.98      0.98      0.98      1032\n",
            "           3       0.97      0.99      0.98      1010\n",
            "           4       0.98      0.98      0.98       982\n",
            "           5       0.99      0.97      0.98       892\n",
            "           6       0.98      0.98      0.98       958\n",
            "           7       0.97      0.98      0.98      1028\n",
            "           8       0.99      0.97      0.98       974\n",
            "           9       0.98      0.97      0.97      1009\n",
            "\n",
            "    accuracy                           0.98     10000\n",
            "   macro avg       0.98      0.98      0.98     10000\n",
            "weighted avg       0.98      0.98      0.98     10000\n",
            "\n"
          ]
        }
      ]
    },
    {
      "cell_type": "markdown",
      "source": [
        "# **Kesimpulan**\n",
        "\n",
        "Berdasarkan hasil pelatihan dan evaluasi tiga konfigurasi yang berbeda dari model (Deep Model, Wide Model, dan Deep and Wide Model) dengan menggunakan dataset MNIST, kita dapat membuat beberapa kesimpulan:\n",
        "\n",
        "1. Akurasi\n",
        "> Semua tiga model mencapai tingkat akurasi yang tinggi, dengan nilai akurasi di atas 97%. Ini menunjukkan bahwa semua model memiliki kemampuan yang baik dalam mengklasifikasikan angka-angka dari dataset MNIST.\n",
        "\n",
        "2. Loss Function\n",
        "> Ketiga model menggunakan Cross-Entropy Loss sebagai fungsi kerugian selama pelatihan. Fungsi kerugian ini umum digunakan dalam tugas klasifikasi, dan hasilnya terlihat baik dalam kasus ini.\n",
        "\n",
        "3. Confusion Matrix\n",
        "> Confusion matrix untuk ketiga model menunjukkan bahwa sebagian besar kelas memiliki performa yang baik, dengan sebagian besar prediksi yang benar. Namun, ada beberapa kesalahan yang terjadi di beberapa kelas, seperti angka 9 pada Wide Model yang memiliki recall yang lebih rendah.\n",
        "\n",
        "4. Classification Report\n",
        "> Classification report juga menunjukkan bahwa model memiliki nilai presisi, recall, dan f1-score yang baik untuk sebagian besar kelas, dengan kinerja terbaik pada kelas 1 dan 7.\n",
        "\n",
        "5. Komparasi Model\n",
        "> Model Deep Model dan Deep and Wide Model memiliki akurasi yang hampir sama tinggi, tetapi Deep and Wide Model memiliki performa yang sedikit lebih baik. Model Wide Model juga memiliki akurasi yang tinggi, tetapi performanya sedikit lebih rendah dibandingkan dengan dua model lainnya.\n",
        "\n",
        "Kesimpulannya, semua tiga konfigurasi model yang diuji menghasilkan hasil yang baik dalam klasifikasi angka-angka MNIST. Pilihan antara model Deep, Wide, atau Deep and Wide dapat bergantung pada kebutuhan spesifik tugas dan sumber daya yang tersedia."
      ],
      "metadata": {
        "id": "bi4_jSowKnEL"
      }
    },
    {
      "cell_type": "markdown",
      "source": [
        "# **3. Compare 3 configurations for the activation function.**\n",
        "Show and explain your performance result."
      ],
      "metadata": {
        "id": "mfc767mxGpkp"
      }
    },
    {
      "cell_type": "code",
      "source": [
        "import numpy as np\n",
        "import torch\n",
        "import torch.nn as nn\n",
        "import torch.optim as optim\n",
        "import torchvision\n",
        "import torchvision.transforms as transforms\n",
        "from sklearn.metrics import accuracy_score\n",
        "\n",
        "# Transformations for data preprocessing\n",
        "transform = transforms.Compose([transforms.ToTensor(), transforms.Normalize((0.5,), (0.5,))])\n",
        "\n",
        "# Load the MNIST dataset\n",
        "trainset = torchvision.datasets.MNIST(root='./data', train=True, download=True, transform=transform)\n",
        "trainloader = torch.utils.data.DataLoader(trainset, batch_size=64, shuffle=True)\n",
        "\n",
        "testset = torchvision.datasets.MNIST(root='./data', train=False, download=True, transform=transform)\n",
        "testloader = torch.utils.data.DataLoader(testset, batch_size=64, shuffle=False)\n",
        "\n",
        "# Define a neural network with different activation functions\n",
        "class Net(nn.Module):\n",
        "    def __init__(self, activation):\n",
        "        super(Net, self).__init__()\n",
        "        self.fc1 = nn.Linear(28 * 28, 128)\n",
        "        self.fc2 = nn.Linear(128, 10)\n",
        "        self.activation = activation\n",
        "\n",
        "    def forward(self, x):\n",
        "        x = x.view(-1, 28 * 28)\n",
        "        x = self.activation(self.fc1(x))\n",
        "        x = self.fc2(x)\n",
        "        return x\n",
        "\n",
        "# Define a function to train and evaluate the model\n",
        "def train_and_evaluate_model(model, trainloader, testloader, activation_name):\n",
        "    criterion = nn.CrossEntropyLoss()\n",
        "    optimizer = optim.SGD(model.parameters(), lr=0.01, momentum=0.9)\n",
        "\n",
        "    # Training loop\n",
        "    epochs = 10\n",
        "    for epoch in range(epochs):\n",
        "        model.train()\n",
        "        running_loss = 0.0\n",
        "        for i, data in enumerate(trainloader, 0):\n",
        "            inputs, labels = data\n",
        "            optimizer.zero_grad()\n",
        "            outputs = model(inputs)\n",
        "            loss = criterion(outputs, labels)\n",
        "            loss.backward()\n",
        "            optimizer.step()\n",
        "            running_loss += loss.item()\n",
        "\n",
        "        print(f\"Epoch {epoch + 1}, Loss: {running_loss / len(trainloader)}\")\n",
        "\n",
        "    # Evaluation\n",
        "    model.eval()\n",
        "    all_preds = []\n",
        "    all_labels = []\n",
        "\n",
        "    with torch.no_grad():\n",
        "        for data in testloader:\n",
        "            inputs, labels = data\n",
        "            outputs = model(inputs)\n",
        "            _, preds = torch.max(outputs, 1)\n",
        "            all_preds.extend(preds.cpu().numpy())\n",
        "            all_labels.extend(labels.cpu().numpy())\n",
        "\n",
        "    accuracy = accuracy_score(all_labels, all_preds)\n",
        "    print(f\"Accuracy ({activation_name}): {accuracy * 100:.2f}%\")\n",
        "\n",
        "# Test different activation functions\n",
        "activations = [nn.ReLU(), nn.Sigmoid(), nn.Tanh()]\n",
        "activation_names = ['ReLU', 'Sigmoid', 'Tanh']\n",
        "\n",
        "for activation, activation_name in zip(activations, activation_names):\n",
        "    model = Net(activation)\n",
        "    print(f\"Training and evaluating with {activation_name} activation function:\")\n",
        "    train_and_evaluate_model(model, trainloader, testloader, activation_name)"
      ],
      "metadata": {
        "colab": {
          "base_uri": "https://localhost:8080/"
        },
        "id": "0SZsj6W98_e0",
        "outputId": "cd845962-dfd9-4be4-b351-2c9b47dd0e99"
      },
      "execution_count": null,
      "outputs": [
        {
          "output_type": "stream",
          "name": "stdout",
          "text": [
            "Training and evaluating with ReLU activation function:\n",
            "Epoch 1, Loss: 0.3714396557145154\n",
            "Epoch 2, Loss: 0.17883781557565115\n",
            "Epoch 3, Loss: 0.13380036032053708\n",
            "Epoch 4, Loss: 0.10657489281505156\n",
            "Epoch 5, Loss: 0.09031011932330933\n",
            "Epoch 6, Loss: 0.07813883063766652\n",
            "Epoch 7, Loss: 0.06877986651990237\n",
            "Epoch 8, Loss: 0.06167049828677504\n",
            "Epoch 9, Loss: 0.05453349033773724\n",
            "Epoch 10, Loss: 0.04969877700260811\n",
            "Accuracy (ReLU): 97.26%\n",
            "Training and evaluating with Sigmoid activation function:\n",
            "Epoch 1, Loss: 0.6430736979219451\n",
            "Epoch 2, Loss: 0.30774012430390313\n",
            "Epoch 3, Loss: 0.25892479338848007\n",
            "Epoch 4, Loss: 0.2262113216493938\n",
            "Epoch 5, Loss: 0.20118216446229517\n",
            "Epoch 6, Loss: 0.18019898085277092\n",
            "Epoch 7, Loss: 0.16360742059041825\n",
            "Epoch 8, Loss: 0.14925505337652875\n",
            "Epoch 9, Loss: 0.13776895459661923\n",
            "Epoch 10, Loss: 0.12778809330046875\n",
            "Accuracy (Sigmoid): 96.12%\n",
            "Training and evaluating with Tanh activation function:\n",
            "Epoch 1, Loss: 0.37440666812124535\n",
            "Epoch 2, Loss: 0.1934381628643348\n",
            "Epoch 3, Loss: 0.14437680039554834\n",
            "Epoch 4, Loss: 0.11574642158556245\n",
            "Epoch 5, Loss: 0.0980985814671733\n",
            "Epoch 6, Loss: 0.08333232920509634\n",
            "Epoch 7, Loss: 0.07294414243770084\n",
            "Epoch 8, Loss: 0.06418824292767022\n",
            "Epoch 9, Loss: 0.05795138934552709\n",
            "Epoch 10, Loss: 0.05178559469684625\n",
            "Accuracy (Tanh): 97.57%\n"
          ]
        }
      ]
    },
    {
      "cell_type": "code",
      "source": [
        "import numpy as np\n",
        "import torch\n",
        "import torch.nn as nn\n",
        "import torch.optim as optim\n",
        "import torchvision\n",
        "import torchvision.transforms as transforms\n",
        "from sklearn.metrics import accuracy_score, confusion_matrix, classification_report\n",
        "\n",
        "# Data preprocessing transformations\n",
        "transform = transforms.Compose([transforms.ToTensor(), transforms.Normalize((0.5,), (0.5,))])\n",
        "\n",
        "# Load the MNIST dataset\n",
        "trainset = torchvision.datasets.MNIST(root='./data', train=True, download=True, transform=transform)\n",
        "trainloader = torch.utils.data.DataLoader(trainset, batch_size=64, shuffle=True)\n",
        "\n",
        "testset = torchvision.datasets.MNIST(root='./data', train=False, download=True, transform=transform)\n",
        "testloader = torch.utils.data.DataLoader(testset, batch_size=64, shuffle=False)\n",
        "\n",
        "# Define a simple neural network\n",
        "class Net(nn.Module):\n",
        "    def __init__(self):\n",
        "        super(Net, self).__init__()\n",
        "        self.fc1 = nn.Linear(28 * 28, 128)\n",
        "        self.fc2 = nn.Linear(128, 10)\n",
        "\n",
        "    def forward(self, x):\n",
        "        x = x.view(-1, 28 * 28)\n",
        "        x = torch.relu(self.fc1(x))\n",
        "        x = self.fc2(x)\n",
        "        return x\n",
        "\n",
        "# Train the model\n",
        "def train_model(model, trainloader):\n",
        "    criterion = nn.CrossEntropyLoss()\n",
        "    optimizer = optim.SGD(model.parameters(), lr=0.01, momentum=0.9)\n",
        "\n",
        "    epochs = 10\n",
        "    for epoch in range(epochs):\n",
        "        model.train()\n",
        "        running_loss = 0.0\n",
        "        for i, data in enumerate(trainloader, 0):\n",
        "            inputs, labels = data\n",
        "            optimizer.zero_grad()\n",
        "            outputs = model(inputs)\n",
        "            loss = criterion(outputs, labels)\n",
        "            loss.backward()\n",
        "            optimizer.step()\n",
        "            running_loss += loss.item()\n",
        "\n",
        "        print(f\"Epoch {epoch + 1}, Loss: {running_loss / len(trainloader)}\")\n",
        "\n",
        "# Evaluate the model\n",
        "def evaluate_model(model, testloader):\n",
        "    model.eval()\n",
        "    all_preds = []\n",
        "    all_labels = []\n",
        "\n",
        "    with torch.no_grad():\n",
        "        for data in testloader:\n",
        "            inputs, labels = data\n",
        "            outputs = model(inputs)\n",
        "            _, preds = torch.max(outputs, 1)\n",
        "            all_preds.extend(preds.cpu().numpy())\n",
        "            all_labels.extend(labels.cpu().numpy())\n",
        "\n",
        "    accuracy = accuracy_score(all_labels, all_preds)\n",
        "    confusion = confusion_matrix(all_labels, all_preds)\n",
        "    class_report = classification_report(all_labels, all_preds)\n",
        "\n",
        "    return accuracy, confusion, class_report\n",
        "\n",
        "# Create and train the model\n",
        "model = Net()\n",
        "train_model(model, trainloader)\n",
        "\n",
        "# Evaluate the model and get accuracy, confusion matrix, and classification report\n",
        "accuracy, confusion, class_report = evaluate_model(model, testloader)\n",
        "\n",
        "print(f\"Accuracy: {accuracy * 100:.2f}%\")\n",
        "print(\"Confusion Matrix:\")\n",
        "print(confusion)\n",
        "print(\"Classification Report:\")\n",
        "print(class_report)"
      ],
      "metadata": {
        "colab": {
          "base_uri": "https://localhost:8080/"
        },
        "id": "VyvtM7Jj-OxS",
        "outputId": "14fab00d-0857-42e6-bf22-4f96caa412e4"
      },
      "execution_count": null,
      "outputs": [
        {
          "output_type": "stream",
          "name": "stdout",
          "text": [
            "Epoch 1, Loss: 0.3768197239191929\n",
            "Epoch 2, Loss: 0.18179000939514592\n",
            "Epoch 3, Loss: 0.13547940166003858\n",
            "Epoch 4, Loss: 0.11034739049556636\n",
            "Epoch 5, Loss: 0.09232847397722034\n",
            "Epoch 6, Loss: 0.07837781487310778\n",
            "Epoch 7, Loss: 0.0681143721693686\n",
            "Epoch 8, Loss: 0.0636266552918116\n",
            "Epoch 9, Loss: 0.05553079966623495\n",
            "Epoch 10, Loss: 0.05027602805963545\n",
            "Accuracy: 97.42%\n",
            "Confusion Matrix:\n",
            "[[ 967    0    2    0    1    5    1    1    3    0]\n",
            " [   0 1118    7    0    0    1    4    0    5    0]\n",
            " [   5    1 1010    2    7    0    3    0    4    0]\n",
            " [   0    0   11  977    1    6    0    2    6    7]\n",
            " [   2    0    4    0  962    0    2    1    1   10]\n",
            " [   3    1    0    5    2  871    4    1    4    1]\n",
            " [   5    1    2    1    4    7  932    0    5    1]\n",
            " [   1    4   22    1    1    1    1  978   10    9]\n",
            " [   3    0    2    2    3    3    1    3  956    1]\n",
            " [   2    2    1    5   12    7    1    3    5  971]]\n",
            "Classification Report:\n",
            "              precision    recall  f1-score   support\n",
            "\n",
            "           0       0.98      0.99      0.98       980\n",
            "           1       0.99      0.99      0.99      1135\n",
            "           2       0.95      0.98      0.97      1032\n",
            "           3       0.98      0.97      0.98      1010\n",
            "           4       0.97      0.98      0.97       982\n",
            "           5       0.97      0.98      0.97       892\n",
            "           6       0.98      0.97      0.98       958\n",
            "           7       0.99      0.95      0.97      1028\n",
            "           8       0.96      0.98      0.97       974\n",
            "           9       0.97      0.96      0.97      1009\n",
            "\n",
            "    accuracy                           0.97     10000\n",
            "   macro avg       0.97      0.97      0.97     10000\n",
            "weighted avg       0.97      0.97      0.97     10000\n",
            "\n"
          ]
        }
      ]
    },
    {
      "cell_type": "markdown",
      "source": [
        "# **Kesimpulan**\n",
        "\n",
        "Berdasarkan hasil yang diperoleh di atas, kita telah melatih dan mengevaluasi model neural network dengan tiga jenis aktivasi yang berbeda yaitu ReLU, Sigmoid, dan Tanh.\n",
        "\n",
        "1. ReLU Activation Function:\n",
        "\n",
        "> - Akurasi: 97.26%\n",
        "> - Loss: Berkurang secara signifikan selama pelatihan.\n",
        "> - Kesimpulan: ReLU adalah aktivasi yang efektif dalam tugas klasifikasi ini, menghasilkan akurasi yang baik.\n",
        "\n",
        "2. Sigmoid Activation Function:\n",
        "\n",
        "> - Akurasi: 96.12%\n",
        "> - Loss: Berkurang, tetapi lebih lambat daripada ReLU.\n",
        "> - Kesimpulan: Sigmoid menghasilkan akurasi yang baik tetapi lebih lambat dalam konvergensi dan kurang efektif dibandingkan ReLU dalam konteks ini.\n",
        "\n",
        "3. Tanh Activation Function:\n",
        "\n",
        "> - Akurasi: 97.57%\n",
        "> - Loss: Berkurang dengan baik selama pelatihan.\n",
        "> - Kesimpulan: Tanh juga menghasilkan akurasi yang baik dan merupakan alternatif yang layak untuk aktivasi ReLU.\n",
        "\n",
        "4. Perbandingan:\n",
        "\n",
        "> - Aktivasi ReLU dan Tanh memberikan hasil yang sangat baik, dengan Tanh sedikit unggul dalam hal akurasi.\n",
        "> - Aktivasi Sigmoid, meskipun menghasilkan akurasi yang baik, terlihat lebih lambat dalam konvergensi dan mencapai akurasi yang sedikit lebih rendah.\n",
        "\n",
        "Pilihan antara aktivasi ReLU, Sigmoid, atau Tanh dapat bergantung pada tugas khusus dan eksperimen lebih lanjut. Dalam banyak kasus, ReLU adalah pilihan yang umum dan efisien, terutama dalam tugas-tugas klasifikasi seperti MNIST."
      ],
      "metadata": {
        "id": "cUcIN8hdLXhk"
      }
    }
  ]
}